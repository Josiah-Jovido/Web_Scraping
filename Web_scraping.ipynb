{
 "cells": [
  {
   "cell_type": "markdown",
   "metadata": {},
   "source": [
    "# Web scraping: Building a pipeline 1\n",
    "* Automate Your Scraping Process Across Multiple Pages\n",
    "* Generalize Your Code For Varying Searches\n",
    "* Target & Save Specific Information You Want"
   ]
  },
  {
   "cell_type": "code",
   "execution_count": 1,
   "metadata": {},
   "outputs": [],
   "source": [
    "# import dependencies\n",
    "import requests\n",
    "from bs4 import BeautifulSoup as bs"
   ]
  },
  {
   "cell_type": "code",
   "execution_count": 2,
   "metadata": {},
   "outputs": [],
   "source": [
    "url = \"https://www.indeed.com/jobs?q=python&l=new+york&start=\""
   ]
  },
  {
   "cell_type": "markdown",
   "metadata": {},
   "source": [
    "#### Scrape the first 100 available search results"
   ]
  },
  {
   "cell_type": "code",
   "execution_count": 3,
   "metadata": {},
   "outputs": [
    {
     "name": "stdout",
     "output_type": "stream",
     "text": [
      "['Content Contributor : iOS Development', 'Penetration Testing Trainee (Remote USA)', 'Winter/Spring 2021 Internship, Analytics', 'Junior Python Developer', 'Java / Python Tutors', 'Data Python Developer', 'Software Engineering Internship, Summer 2021', 'Digital Archives Assistant', 'Early Careers | Financial Modeling & Research | New York', 'Senior Level Python Developer', 'Junior Front End / Full Stack Software Engineer', 'Data Analytics Intern', 'Python Developer', 'Software Engineer - Python', 'VP, Operations Strategy - RT']\n",
      "['Global Trading Technology Development Intern | Summer 2021', 'Software Engineers & Web Developers', 'Data Technician (Full- or Part-Time)', 'Senior Django/Python Developer', 'Full Stack Software Engineer (PHP/Python)- Watertown, MA or...', 'Counterintelligence Analyst', 'Java/Python/C# Software Engineer', 'Students - Equity Trading Desk Internship Summer 2019', 'Junior Data Scientist – Performance Analytics', 'CPD Intern', 'Valuation and Risk Analytics Associate, triCalculate', 'Software Engineer (Python)', 'Data Scientist', 'Data Science Intern | Summer 2021', 'Portfolio Analyst']\n",
      "['Global Trading Technology Development Intern | Summer 2021', 'Software Engineers & Web Developers', 'Data Technician (Full- or Part-Time)', 'Senior Django/Python Developer', 'Full Stack Software Engineer (PHP/Python)- Watertown, MA or...', 'Counterintelligence Analyst', 'Java/Python/C# Software Engineer', 'Students - Equity Trading Desk Internship Summer 2019', 'Junior Data Scientist – Performance Analytics', 'CPD Intern', 'Valuation and Risk Analytics Associate, triCalculate', 'Software Engineer (Python)', 'Data Scientist', 'Data Science Intern | Summer 2021', 'Portfolio Analyst']\n",
      "['Global Trading Technology Development Intern | Summer 2021', 'Software Engineers & Web Developers', 'Data Technician (Full- or Part-Time)', 'Senior Django/Python Developer', 'Full Stack Software Engineer (PHP/Python)- Watertown, MA or...', 'Counterintelligence Analyst', 'Java/Python/C# Software Engineer', 'Students - Equity Trading Desk Internship Summer 2019', 'Junior Data Scientist – Performance Analytics', 'CPD Intern', 'Valuation and Risk Analytics Associate, triCalculate', 'Software Engineer (Python)', 'Data Scientist', 'Data Science Intern | Summer 2021', 'Portfolio Analyst']\n",
      "['Global Trading Technology Development Intern | Summer 2021', 'Software Engineers & Web Developers', 'Data Technician (Full- or Part-Time)', 'Senior Django/Python Developer', 'Full Stack Software Engineer (PHP/Python)- Watertown, MA or...', 'Counterintelligence Analyst', 'Java/Python/C# Software Engineer', 'Students - Equity Trading Desk Internship Summer 2019', 'Junior Data Scientist – Performance Analytics', 'CPD Intern', 'Valuation and Risk Analytics Associate, triCalculate', 'Software Engineer (Python)', 'Data Scientist', 'Data Science Intern | Summer 2021', 'Portfolio Analyst']\n",
      "['Junior Front End / Full Stack Software Engineer', 'Data Analytics Intern', 'Python Developer', 'Software Engineer - Python', 'VP, Operations Strategy - RT', 'Global Trading Technology Development Intern | Summer 2021', 'Software Engineers & Web Developers', 'Data Technician (Full- or Part-Time)', 'Senior Django/Python Developer', 'Full Stack Software Engineer (PHP/Python)- Watertown, MA or...']\n",
      "['Global Trading Technology Development Intern | Summer 2021', 'Software Engineers & Web Developers', 'Data Technician (Full- or Part-Time)', 'Senior Django/Python Developer', 'Full Stack Software Engineer (PHP/Python)- Watertown, MA or...', 'Counterintelligence Analyst', 'Java/Python/C# Software Engineer', 'Students - Equity Trading Desk Internship Summer 2019', 'Junior Data Scientist – Performance Analytics', 'CPD Intern', 'Valuation and Risk Analytics Associate, triCalculate', 'Software Engineer (Python)', 'Data Scientist', 'Data Science Intern | Summer 2021', 'Portfolio Analyst']\n"
     ]
    }
   ],
   "source": [
    "for start in range(0, 7):\n",
    "    response = requests.get(url + str(start))\n",
    "    soup = bs(response.content)\n",
    "    results = soup.find(id='resultsCol')\n",
    "    jobs = results.find_all('div', class_='result')\n",
    "    jobs = results.find_all('div', class_='row')\n",
    "    job_titles = [job.find('h2').find('a').text.strip() for job in jobs]\n",
    "    print(job_titles)"
   ]
  },
  {
   "cell_type": "code",
   "execution_count": 4,
   "metadata": {},
   "outputs": [
    {
     "data": {
      "text/plain": [
       "list"
      ]
     },
     "execution_count": 4,
     "metadata": {},
     "output_type": "execute_result"
    }
   ],
   "source": [
    "type(job_titles)"
   ]
  },
  {
   "cell_type": "code",
   "execution_count": 5,
   "metadata": {},
   "outputs": [],
   "source": [
    "from pandas import DataFrame"
   ]
  },
  {
   "cell_type": "code",
   "execution_count": 6,
   "metadata": {},
   "outputs": [],
   "source": [
    "df = DataFrame(job_titles, columns=['job_titles'])"
   ]
  },
  {
   "cell_type": "code",
   "execution_count": 7,
   "metadata": {},
   "outputs": [
    {
     "data": {
      "text/html": [
       "<div>\n",
       "<style scoped>\n",
       "    .dataframe tbody tr th:only-of-type {\n",
       "        vertical-align: middle;\n",
       "    }\n",
       "\n",
       "    .dataframe tbody tr th {\n",
       "        vertical-align: top;\n",
       "    }\n",
       "\n",
       "    .dataframe thead th {\n",
       "        text-align: right;\n",
       "    }\n",
       "</style>\n",
       "<table border=\"1\" class=\"dataframe\">\n",
       "  <thead>\n",
       "    <tr style=\"text-align: right;\">\n",
       "      <th></th>\n",
       "      <th>job_titles</th>\n",
       "    </tr>\n",
       "  </thead>\n",
       "  <tbody>\n",
       "    <tr>\n",
       "      <th>0</th>\n",
       "      <td>Global Trading Technology Development Intern |...</td>\n",
       "    </tr>\n",
       "    <tr>\n",
       "      <th>1</th>\n",
       "      <td>Software Engineers &amp; Web Developers</td>\n",
       "    </tr>\n",
       "    <tr>\n",
       "      <th>2</th>\n",
       "      <td>Data Technician (Full- or Part-Time)</td>\n",
       "    </tr>\n",
       "    <tr>\n",
       "      <th>3</th>\n",
       "      <td>Senior Django/Python Developer</td>\n",
       "    </tr>\n",
       "    <tr>\n",
       "      <th>4</th>\n",
       "      <td>Full Stack Software Engineer (PHP/Python)- Wat...</td>\n",
       "    </tr>\n",
       "  </tbody>\n",
       "</table>\n",
       "</div>"
      ],
      "text/plain": [
       "                                          job_titles\n",
       "0  Global Trading Technology Development Intern |...\n",
       "1                Software Engineers & Web Developers\n",
       "2               Data Technician (Full- or Part-Time)\n",
       "3                     Senior Django/Python Developer\n",
       "4  Full Stack Software Engineer (PHP/Python)- Wat..."
      ]
     },
     "execution_count": 7,
     "metadata": {},
     "output_type": "execute_result"
    }
   ],
   "source": [
    "df.head()"
   ]
  },
  {
   "cell_type": "code",
   "execution_count": 8,
   "metadata": {},
   "outputs": [],
   "source": [
    "df.to_csv('job_titles.csv')"
   ]
  }
 ],
 "metadata": {
  "kernelspec": {
   "display_name": "Python 3",
   "language": "python",
   "name": "python3"
  },
  "language_info": {
   "codemirror_mode": {
    "name": "ipython",
    "version": 3
   },
   "file_extension": ".py",
   "mimetype": "text/x-python",
   "name": "python",
   "nbconvert_exporter": "python",
   "pygments_lexer": "ipython3",
   "version": "3.8.5"
  }
 },
 "nbformat": 4,
 "nbformat_minor": 4
}
