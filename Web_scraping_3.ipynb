{
 "cells": [
  {
   "cell_type": "markdown",
   "metadata": {},
   "source": [
    "# Web Scraping\n",
    "Web Scraping is an automatic method to obtain large amounts of data from websites. Most of this data is unstructured data in an HTML format which is then converted into structured data in a spreadsheet or a database so that it can be used in various applications.\n",
    "![image](https://media.geeksforgeeks.org/wp-content/cdn-uploads/20200622222131/What-is-Web-Scraping-and-How-to-Use-It.png)\n",
    "For this notebook i shall be scraping `www.indeed.com`, the methodology includes:\n",
    "* Scrape the first 100 available search results\n",
    "* Generalize the code to allow searching for different locations/jobs\n",
    "* Pick out information about the URL, job title, and job location\n",
    "* Save the results to a file"
   ]
  },
  {
   "cell_type": "code",
   "execution_count": 1,
   "metadata": {},
   "outputs": [],
   "source": [
    "# import dependencies\n",
    "import requests\n",
    "from bs4 import BeautifulSoup"
   ]
  },
  {
   "cell_type": "markdown",
   "metadata": {},
   "source": [
    "### Inspection\n",
    "Important note points:\n",
    "* How do the URLs change when you navigate to the next results page?\n",
    "* How do the URLs change when you use a different location and/or job title search?\n",
    "* Which HTML elements contain the link, title, and location of each job?\n",
    "\n",
    "We notice that the start= parameter gets added and incremented by the value of 10 for each additional page. This is because each results page displays 10 job results.\n",
    "\n",
    "E.g.: https://www.indeed.com/jobs?q=python&l=new+york&start=20\n",
    "\n",
    "Different Location/Job Title: The values for the query parameters q (for job title) and l (for location) change accordingly.\n"
   ]
  },
  {
   "cell_type": "code",
   "execution_count": 2,
   "metadata": {},
   "outputs": [],
   "source": [
    "page = requests.get('https://www.indeed.com/jobs?q=python&l=new+york')"
   ]
  },
  {
   "cell_type": "markdown",
   "metadata": {},
   "source": [
    "From the observation of the web page using developer tools we notice that a single job posting lives inside of a `div` element with the class name `result`. Inside there are other elements. You can find the specific info you're looking for here:\n",
    "\n",
    "**HTML Elements**\n",
    "- **Link**: In the `href` attribute of the `<a>` Element that is a child of the title `<h2>` element\n",
    "- **Title**: The text of the link in the `<h2>` element which also contains the link URL mentioned above\n",
    "- **Location**: A `<span>` element with the telling class name `location`"
   ]
  },
  {
   "cell_type": "markdown",
   "metadata": {},
   "source": [
    "### Scraping\n",
    "* Build the code to fetch the first 100 search results.\n",
    "* Write functions that allow you to specify the job title, location, and amount of results as arguments."
   ]
  },
  {
   "cell_type": "code",
   "execution_count": 3,
   "metadata": {},
   "outputs": [],
   "source": [
    "page_2 = requests.get('https://www.indeed.com/jobs?q=python&l=new+york&start=20')"
   ]
  },
  {
   "cell_type": "markdown",
   "metadata": {},
   "source": [
    "Every 10 results means you're on a new page. Let's make that an argument to a function:"
   ]
  },
  {
   "cell_type": "code",
   "execution_count": 4,
   "metadata": {},
   "outputs": [],
   "source": [
    "def get_jobs(page=1):\n",
    "    \"\"\"Fetches the HTML from a search for Python jobs in New York on Indeed.com from a specified page.\"\"\"\n",
    "    base_url_indeed = 'https://www.indeed.com/jobs?q=python&l=new+york&start='\n",
    "    results_start_num = page*10\n",
    "    url = f'{base_url_indeed}{results_start_num}'\n",
    "    page = requests.get(url)\n",
    "    return page"
   ]
  },
  {
   "cell_type": "code",
   "execution_count": 5,
   "metadata": {},
   "outputs": [
    {
     "data": {
      "text/plain": [
       "<Response [200]>"
      ]
     },
     "execution_count": 5,
     "metadata": {},
     "output_type": "execute_result"
    }
   ],
   "source": [
    "get_jobs(5)"
   ]
  },
  {
   "cell_type": "markdown",
   "metadata": {},
   "source": [
    "A HTML response of `200` means action completed successfully "
   ]
  },
  {
   "cell_type": "code",
   "execution_count": 6,
   "metadata": {},
   "outputs": [
    {
     "data": {
      "text/plain": [
       "<Response [200]>"
      ]
     },
     "execution_count": 6,
     "metadata": {},
     "output_type": "execute_result"
    }
   ],
   "source": [
    "get_jobs(6)"
   ]
  },
  {
   "cell_type": "markdown",
   "metadata": {},
   "source": [
    "Now let's customize this function some more to allow for different search queries and search locations:"
   ]
  },
  {
   "cell_type": "code",
   "execution_count": 7,
   "metadata": {},
   "outputs": [],
   "source": [
    "def get_jobs(title, location, page=1):\n",
    "    \"\"\"Fetches the HTML from a search for Python jobs in New York on Indeed.com from a specified page.\"\"\"\n",
    "    loc = location.replace(' ', '+')  # for multi-part locations\n",
    "    base_url_indeed = f'https://www.indeed.com/jobs?q={title}&l={loc}&start='\n",
    "    results_start_num = page*10\n",
    "    url = f'{base_url_indeed}{results_start_num}'\n",
    "    page = requests.get(url)\n",
    "    return page"
   ]
  },
  {
   "cell_type": "code",
   "execution_count": 10,
   "metadata": {},
   "outputs": [
    {
     "data": {
      "text/plain": [
       "<Response [200]>"
      ]
     },
     "execution_count": 10,
     "metadata": {},
     "output_type": "execute_result"
    }
   ],
   "source": [
    "get_jobs('python', 'new york', 3)"
   ]
  },
  {
   "cell_type": "markdown",
   "metadata": {},
   "source": [
    "#### With a generalized way of scraping the page done we can now move to parsing the HTML"
   ]
  },
  {
   "cell_type": "markdown",
   "metadata": {},
   "source": [
    "### Parsing\n",
    "- Sieve through your HTML soup to pick out only the job title, link, and location\n",
    "- Format the results in a readable format (e.g. JSON)\n",
    "- Save the results to a file\n",
    "\n",
    "We shall begin by parsing the important information for one page"
   ]
  },
  {
   "cell_type": "code",
   "execution_count": 11,
   "metadata": {},
   "outputs": [],
   "source": [
    "site = get_jobs('python', 'new york')"
   ]
  },
  {
   "cell_type": "code",
   "execution_count": 12,
   "metadata": {},
   "outputs": [],
   "source": [
    "soup = BeautifulSoup(site.content)"
   ]
  },
  {
   "cell_type": "code",
   "execution_count": 17,
   "metadata": {},
   "outputs": [],
   "source": [
    "#soup"
   ]
  },
  {
   "cell_type": "code",
   "execution_count": 14,
   "metadata": {},
   "outputs": [],
   "source": [
    "results = soup.find(id='resultsCol')"
   ]
  },
  {
   "cell_type": "code",
   "execution_count": 16,
   "metadata": {},
   "outputs": [],
   "source": [
    "#results"
   ]
  },
  {
   "cell_type": "code",
   "execution_count": 18,
   "metadata": {},
   "outputs": [],
   "source": [
    "jobs = results.find_all('div', class_='result')"
   ]
  },
  {
   "cell_type": "code",
   "execution_count": 20,
   "metadata": {},
   "outputs": [],
   "source": [
    "#jobs"
   ]
  },
  {
   "cell_type": "markdown",
   "metadata": {},
   "source": [
    "We can use a list comprehension to get our **Job titles**"
   ]
  },
  {
   "cell_type": "code",
   "execution_count": 21,
   "metadata": {},
   "outputs": [],
   "source": [
    "# get the job titles for one page\n",
    "job_titles = [job.find('h2').find('a').text.strip() for job in jobs]"
   ]
  },
  {
   "cell_type": "code",
   "execution_count": 22,
   "metadata": {},
   "outputs": [
    {
     "data": {
      "text/plain": [
       "['Data Analyst',\n",
       " 'Software Engineer (New Graduate Summer 2021)',\n",
       " 'Software Engineers & Web Developers',\n",
       " 'Sr. BI Developer',\n",
       " 'Senior manager, customer intelligence',\n",
       " 'STATISTICIAN',\n",
       " 'FULL STACK DEVELOPMENT OPPORTUNITY (FULL-TIME) – Work from H...',\n",
       " 'Research Strategist',\n",
       " 'Software Engineering Internship, Summer 2021',\n",
       " 'Analyst, Advanced Analytics',\n",
       " 'Quantitative Researcher, Commodities',\n",
       " 'Strategy Associate, YouTube',\n",
       " 'Scientific Programmer',\n",
       " 'Python Programmer Instructor',\n",
       " 'VP, Operations Strategy - RT']"
      ]
     },
     "execution_count": 22,
     "metadata": {},
     "output_type": "execute_result"
    }
   ],
   "source": [
    "job_titles"
   ]
  },
  {
   "cell_type": "markdown",
   "metadata": {},
   "source": [
    "The **URL links** needs to be assembled:"
   ]
  },
  {
   "cell_type": "code",
   "execution_count": 23,
   "metadata": {},
   "outputs": [],
   "source": [
    "base_url = 'https://www.indeed.com'"
   ]
  },
  {
   "cell_type": "code",
   "execution_count": 24,
   "metadata": {},
   "outputs": [],
   "source": [
    "# get the url links for all jobs in page one\n",
    "job_links = [base_url + job.find('h2').find('a')['href'] for job in jobs]"
   ]
  },
  {
   "cell_type": "code",
   "execution_count": 25,
   "metadata": {},
   "outputs": [
    {
     "data": {
      "text/plain": [
       "['https://www.indeed.com/rc/clk?jk=589a6796386ffbda&fccid=3b2b55df6cade29d&vjs=3',\n",
       " 'https://www.indeed.com/rc/clk?jk=653913a350bc087f&fccid=7c07af204e67482c&vjs=3',\n",
       " 'https://www.indeed.com/rc/clk?jk=597b9830f39b5420&fccid=bc8bf69154b5fc28&vjs=3',\n",
       " 'https://www.indeed.com/rc/clk?jk=6eed453a7000171c&fccid=4b841d912d46e4fd&vjs=3',\n",
       " 'https://www.indeed.com/rc/clk?jk=8d0b059e7e800237&fccid=9c64a5c780f4ce99&vjs=3',\n",
       " 'https://www.indeed.com/rc/clk?jk=170fc25cffd33e85&fccid=f9fe675c31a6b8de&vjs=3',\n",
       " 'https://www.indeed.com/rc/clk?jk=a643f96736b796a8&fccid=74033d9ad24cc449&vjs=3',\n",
       " 'https://www.indeed.com/rc/clk?jk=2eb2eec9449dab03&fccid=7c43bf142222e360&vjs=3',\n",
       " 'https://www.indeed.com/rc/clk?jk=180a51e476fb7f4f&fccid=9ecb91618c39a24f&vjs=3',\n",
       " 'https://www.indeed.com/rc/clk?jk=d00cd256b2e2838e&fccid=f2c8db2d75b00437&vjs=3',\n",
       " 'https://www.indeed.com/rc/clk?jk=996be3c8edb12e94&fccid=548e0909717a6ddf&vjs=3',\n",
       " 'https://www.indeed.com/rc/clk?jk=aaeefcbc91c91eba&fccid=a9021c35fcef6968&vjs=3',\n",
       " 'https://www.indeed.com/rc/clk?jk=e86692715bef2aad&fccid=69d294dd564bf502&vjs=3',\n",
       " 'https://www.indeed.com/rc/clk?jk=92441b01fbfb4df6&fccid=5551312f0bfb4c11&vjs=3',\n",
       " 'https://www.indeed.com/rc/clk?jk=cec09614df6cf830&fccid=f42bbfc261ca3e64&vjs=3']"
      ]
     },
     "execution_count": 25,
     "metadata": {},
     "output_type": "execute_result"
    }
   ],
   "source": [
    "job_links"
   ]
  },
  {
   "cell_type": "markdown",
   "metadata": {},
   "source": [
    "The **Locations** can be picked out of the soup by class name"
   ]
  },
  {
   "cell_type": "code",
   "execution_count": 26,
   "metadata": {},
   "outputs": [],
   "source": [
    "# get the job locations for all jobs in page one\n",
    "job_locations = [job.find(class_='location').text for job in jobs]"
   ]
  },
  {
   "cell_type": "code",
   "execution_count": 27,
   "metadata": {},
   "outputs": [
    {
     "data": {
      "text/plain": [
       "['New York, NY',\n",
       " 'New York, NY',\n",
       " 'New York, NY',\n",
       " 'New York, NY 10006 (Financial District area)',\n",
       " 'New York, NY',\n",
       " 'New York, NY',\n",
       " 'Oswego, NY 13126',\n",
       " 'New York State',\n",
       " 'Brooklyn, NY 11201',\n",
       " 'New York, NY',\n",
       " 'New York, NY',\n",
       " 'New York, NY',\n",
       " 'Buffalo, NY 14260',\n",
       " 'New York, NY 10001 (Clinton area)',\n",
       " 'New York, NY 10004 (Financial District area)']"
      ]
     },
     "execution_count": 27,
     "metadata": {},
     "output_type": "execute_result"
    }
   ],
   "source": [
    "job_locations"
   ]
  },
  {
   "cell_type": "markdown",
   "metadata": {},
   "source": [
    "#### Combining everything into a function"
   ]
  },
  {
   "cell_type": "code",
   "execution_count": 28,
   "metadata": {},
   "outputs": [],
   "source": [
    "def parse_info(soup):\n",
    "    \"\"\"\n",
    "    Parses HTML containing job postings and picks out job title, location, and link.\n",
    "    \n",
    "    args:\n",
    "    soup (BeautifulSoup object): A parsed bs4.BeautifulSoup object of a search results page on indeed.com\n",
    "    \n",
    "    returns:\n",
    "    job_list (list): A list of dictionaries containing the title, link, and location of each job posting\n",
    "    \"\"\"\n",
    "    results = soup.find(id='resultsCol')\n",
    "    jobs = results.find_all('div', class_='result')\n",
    "    base_url = 'https://www.indeed.com'\n",
    "\n",
    "    job_list = list()\n",
    "    for job in jobs:\n",
    "        title = job.find('h2').find('a').text.strip()\n",
    "        link = base_url + job.find('h2').find('a')['href']\n",
    "        location = job.find(class_='location').text\n",
    "        job_list.append({'title': title, 'link': link, 'location': location})\n",
    "\n",
    "    return job_list"
   ]
  },
  {
   "cell_type": "code",
   "execution_count": 29,
   "metadata": {},
   "outputs": [],
   "source": [
    "page = get_jobs('python', 'new_york')"
   ]
  },
  {
   "cell_type": "code",
   "execution_count": 30,
   "metadata": {},
   "outputs": [],
   "source": [
    "soup = BeautifulSoup(page.content)"
   ]
  },
  {
   "cell_type": "code",
   "execution_count": 31,
   "metadata": {},
   "outputs": [],
   "source": [
    "results = parse_info(soup)"
   ]
  },
  {
   "cell_type": "code",
   "execution_count": 32,
   "metadata": {},
   "outputs": [
    {
     "data": {
      "text/plain": [
       "[{'title': 'STATISTICIAN',\n",
       "  'link': 'https://www.indeed.com/rc/clk?jk=170fc25cffd33e85&fccid=f9fe675c31a6b8de&vjs=3',\n",
       "  'location': 'New York, NY'},\n",
       " {'title': 'Security Engineer, Special Projects',\n",
       "  'link': 'https://www.indeed.com/rc/clk?jk=223e1dd0d57d43b9&fccid=d26901b7a9b35c6c&vjs=3',\n",
       "  'location': 'New York State'},\n",
       " {'title': 'Data Analyst',\n",
       "  'link': 'https://www.indeed.com/rc/clk?jk=589a6796386ffbda&fccid=3b2b55df6cade29d&vjs=3',\n",
       "  'location': 'New York, NY'},\n",
       " {'title': 'Senior Django/Python Developer',\n",
       "  'link': 'https://www.indeed.com/rc/clk?jk=ec36299f56189c31&fccid=e53e1451c3ffe7f3&vjs=3',\n",
       "  'location': 'Brooklyn, NY'},\n",
       " {'title': 'Software Engineer (New Graduate Summer 2021)',\n",
       "  'link': 'https://www.indeed.com/rc/clk?jk=653913a350bc087f&fccid=7c07af204e67482c&vjs=3',\n",
       "  'location': 'New York, NY'},\n",
       " {'title': 'Data Informatics Analyst II',\n",
       "  'link': 'https://www.indeed.com/rc/clk?jk=d91e292519d54e36&fccid=12042485d1cec3f9&vjs=3',\n",
       "  'location': 'Schenectady, NY 12305'},\n",
       " {'title': 'Software Engineers & Web Developers',\n",
       "  'link': 'https://www.indeed.com/rc/clk?jk=597b9830f39b5420&fccid=bc8bf69154b5fc28&vjs=3',\n",
       "  'location': 'New York, NY'},\n",
       " {'title': 'FULL STACK DEVELOPMENT OPPORTUNITY (FULL-TIME) – Work from H...',\n",
       "  'link': 'https://www.indeed.com/rc/clk?jk=a643f96736b796a8&fccid=74033d9ad24cc449&vjs=3',\n",
       "  'location': 'Oswego, NY 13126'},\n",
       " {'title': 'Strategy Associate, YouTube',\n",
       "  'link': 'https://www.indeed.com/rc/clk?jk=aaeefcbc91c91eba&fccid=a9021c35fcef6968&vjs=3',\n",
       "  'location': 'New York, NY'},\n",
       " {'title': 'VP, Operations Strategy - RT',\n",
       "  'link': 'https://www.indeed.com/rc/clk?jk=cec09614df6cf830&fccid=f42bbfc261ca3e64&vjs=3',\n",
       "  'location': 'New York, NY 10004 (Financial District area)'},\n",
       " {'title': 'Research Strategist',\n",
       "  'link': 'https://www.indeed.com/rc/clk?jk=2eb2eec9449dab03&fccid=7c43bf142222e360&vjs=3',\n",
       "  'location': 'New York State'},\n",
       " {'title': 'Quantitative Researcher, Commodities',\n",
       "  'link': 'https://www.indeed.com/rc/clk?jk=996be3c8edb12e94&fccid=548e0909717a6ddf&vjs=3',\n",
       "  'location': 'New York, NY'},\n",
       " {'title': 'Software Application Developer',\n",
       "  'link': 'https://www.indeed.com/rc/clk?jk=5cd1cb57f3aadfd0&fccid=abca1b1c7c4682b2&vjs=3',\n",
       "  'location': 'Plattsburgh, NY'},\n",
       " {'title': 'Analyst, Advanced Analytics',\n",
       "  'link': 'https://www.indeed.com/rc/clk?jk=d00cd256b2e2838e&fccid=f2c8db2d75b00437&vjs=3',\n",
       "  'location': 'New York, NY'},\n",
       " {'title': 'Sr. BI Developer',\n",
       "  'link': 'https://www.indeed.com/rc/clk?jk=6eed453a7000171c&fccid=4b841d912d46e4fd&vjs=3',\n",
       "  'location': 'New York, NY 10006 (Financial District area)'}]"
      ]
     },
     "execution_count": 32,
     "metadata": {},
     "output_type": "execute_result"
    }
   ],
   "source": [
    "results"
   ]
  },
  {
   "cell_type": "markdown",
   "metadata": {},
   "source": [
    "#### Generalizing the code for multiple pages to get 100 search results."
   ]
  },
  {
   "cell_type": "code",
   "execution_count": 33,
   "metadata": {},
   "outputs": [],
   "source": [
    "def get_job_listings(title, location, amount=100):\n",
    "    results = list()\n",
    "    for page in range(amount//10):\n",
    "        site = get_jobs(title, location, page=page)\n",
    "        soup = BeautifulSoup(site.content)\n",
    "        page_results = parse_info(soup)\n",
    "        results += page_results\n",
    "    return results"
   ]
  },
  {
   "cell_type": "code",
   "execution_count": 34,
   "metadata": {},
   "outputs": [],
   "source": [
    "r = get_job_listings('python', 'new york', 100)"
   ]
  },
  {
   "cell_type": "code",
   "execution_count": 35,
   "metadata": {},
   "outputs": [
    {
     "data": {
      "text/plain": [
       "[{'title': 'Junior Python Developer',\n",
       "  'link': 'https://www.indeed.com/rc/clk?jk=f8f068da6dd93fa6&fccid=ca7680692810259a&vjs=3',\n",
       "  'location': 'New York, NY 10022 (Midtown area)'},\n",
       " {'title': 'Penetration Testing Trainee (Remote USA)',\n",
       "  'link': 'https://www.indeed.com/rc/clk?jk=487b30db63184515&fccid=bf0600f0f252b45b&vjs=3',\n",
       "  'location': 'Florida, NY'},\n",
       " {'title': 'Data Python Developer',\n",
       "  'link': 'https://www.indeed.com/rc/clk?jk=31661855134fd73a&fccid=1c2a61588e44123b&vjs=3',\n",
       "  'location': 'New York, NY'},\n",
       " {'title': 'Content Contributor : iOS Development',\n",
       "  'link': 'https://www.indeed.com/rc/clk?jk=a7f18bd945797fb5&fccid=b9d4e9eceb3ff4c0&vjs=3',\n",
       "  'location': 'New York State'},\n",
       " {'title': 'Content Contributor : Django',\n",
       "  'link': 'https://www.indeed.com/rc/clk?jk=3b5568b7c0bcae64&fccid=b9d4e9eceb3ff4c0&vjs=3',\n",
       "  'location': 'New York State'},\n",
       " {'title': 'Java / Python Tutors',\n",
       "  'link': 'https://www.indeed.com/rc/clk?jk=6dd414e5bf2653aa&fccid=5551312f0bfb4c11&vjs=3',\n",
       "  'location': 'New York, NY 10001 (Clinton area)'},\n",
       " {'title': 'Senior Level Python Developer',\n",
       "  'link': 'https://www.indeed.com/rc/clk?jk=bfa41cad10426505&fccid=c85d08a88c59e378&vjs=3',\n",
       "  'location': 'New York, NY'},\n",
       " {'title': 'Data Analytics Intern',\n",
       "  'link': 'https://www.indeed.com/rc/clk?jk=bbfec3eab5e85a67&fccid=1b50fcfb150b1b48&vjs=3',\n",
       "  'location': 'New York, NY'},\n",
       " {'title': 'Digital Archives Assistant',\n",
       "  'link': 'https://www.indeed.com/rc/clk?jk=7c541433bfbcb0b8&fccid=ec3edbdb9b5c3b64&vjs=3',\n",
       "  'location': 'Long Island City, NY'},\n",
       " {'title': 'Associate',\n",
       "  'link': 'https://www.indeed.com/rc/clk?jk=664e970d446ec6f4&fccid=ec089a92f115a89e&vjs=3',\n",
       "  'location': 'New York, NY'},\n",
       " {'title': 'Early Careers | Data Development, Governance, and Analytics...',\n",
       "  'link': 'https://www.indeed.com/rc/clk?jk=cccb83ee916012f9&fccid=16a97ed26c75bf2d&vjs=3',\n",
       "  'location': 'New York, NY'},\n",
       " {'title': 'Senior manager, customer intelligence',\n",
       "  'link': 'https://www.indeed.com/rc/clk?jk=8d0b059e7e800237&fccid=9c64a5c780f4ce99&vjs=3',\n",
       "  'location': 'New York, NY'},\n",
       " {'title': 'Software Engineer (New Graduate Summer 2021)',\n",
       "  'link': 'https://www.indeed.com/rc/clk?jk=653913a350bc087f&fccid=7c07af204e67482c&vjs=3',\n",
       "  'location': 'New York, NY'},\n",
       " {'title': 'Data Technician (Full- or Part-Time)',\n",
       "  'link': 'https://www.indeed.com/rc/clk?jk=da727c0cddda240e&fccid=56a26d4c816e53d1&vjs=3',\n",
       "  'location': 'New York, NY'},\n",
       " {'title': 'Senior Django/Python Developer',\n",
       "  'link': 'https://www.indeed.com/rc/clk?jk=ec36299f56189c31&fccid=e53e1451c3ffe7f3&vjs=3',\n",
       "  'location': 'Brooklyn, NY'},\n",
       " {'title': 'Software Engineers & Web Developers',\n",
       "  'link': 'https://www.indeed.com/rc/clk?jk=597b9830f39b5420&fccid=bc8bf69154b5fc28&vjs=3',\n",
       "  'location': 'New York, NY'},\n",
       " {'title': 'Developer - Trade Processing',\n",
       "  'link': 'https://www.indeed.com/rc/clk?jk=ac4d01b31b152da5&fccid=afcb2790e9bd57c7&vjs=3',\n",
       "  'location': 'New York, NY'},\n",
       " {'title': 'Senior Data Analyst',\n",
       "  'link': 'https://www.indeed.com/rc/clk?jk=723e7ec9cc3e7057&fccid=01fd1f2f239c15f4&vjs=3',\n",
       "  'location': 'New York, NY'},\n",
       " {'title': 'Software Engineering Internship, Summer 2021',\n",
       "  'link': 'https://www.indeed.com/rc/clk?jk=180a51e476fb7f4f&fccid=9ecb91618c39a24f&vjs=3',\n",
       "  'location': 'Brooklyn, NY 11201'},\n",
       " {'title': 'Data Analyst',\n",
       "  'link': 'https://www.indeed.com/rc/clk?jk=589a6796386ffbda&fccid=3b2b55df6cade29d&vjs=3',\n",
       "  'location': 'New York, NY'},\n",
       " {'title': 'STATISTICIAN',\n",
       "  'link': 'https://www.indeed.com/rc/clk?jk=170fc25cffd33e85&fccid=f9fe675c31a6b8de&vjs=3',\n",
       "  'location': 'New York, NY'},\n",
       " {'title': 'Software Application Developer',\n",
       "  'link': 'https://www.indeed.com/rc/clk?jk=5cd1cb57f3aadfd0&fccid=abca1b1c7c4682b2&vjs=3',\n",
       "  'location': 'Plattsburgh, NY'},\n",
       " {'title': 'Security Engineer, Special Projects',\n",
       "  'link': 'https://www.indeed.com/rc/clk?jk=223e1dd0d57d43b9&fccid=d26901b7a9b35c6c&vjs=3',\n",
       "  'location': 'New York State'},\n",
       " {'title': 'FULL STACK DEVELOPMENT OPPORTUNITY (FULL-TIME) – Work from H...',\n",
       "  'link': 'https://www.indeed.com/rc/clk?jk=a643f96736b796a8&fccid=74033d9ad24cc449&vjs=3',\n",
       "  'location': 'Oswego, NY 13126'},\n",
       " {'title': 'Python Programmer Instructor',\n",
       "  'link': 'https://www.indeed.com/rc/clk?jk=92441b01fbfb4df6&fccid=5551312f0bfb4c11&vjs=3',\n",
       "  'location': 'New York, NY 10001 (Clinton area)'},\n",
       " {'title': 'Data Informatics Analyst II',\n",
       "  'link': 'https://www.indeed.com/rc/clk?jk=d91e292519d54e36&fccid=12042485d1cec3f9&vjs=3',\n",
       "  'location': 'Schenectady, NY 12305'},\n",
       " {'title': 'VP, Operations Strategy - RT',\n",
       "  'link': 'https://www.indeed.com/rc/clk?jk=cec09614df6cf830&fccid=f42bbfc261ca3e64&vjs=3',\n",
       "  'location': 'New York, NY 10004 (Financial District area)'},\n",
       " {'title': 'Quantitative Researcher',\n",
       "  'link': 'https://www.indeed.com/rc/clk?jk=e2c13dac12042e37&fccid=e99e0f54c1059cab&vjs=3',\n",
       "  'location': 'New York, NY'},\n",
       " {'title': 'Strategy Associate, YouTube',\n",
       "  'link': 'https://www.indeed.com/rc/clk?jk=aaeefcbc91c91eba&fccid=a9021c35fcef6968&vjs=3',\n",
       "  'location': 'New York, NY'},\n",
       " {'title': 'Research Strategist',\n",
       "  'link': 'https://www.indeed.com/rc/clk?jk=2eb2eec9449dab03&fccid=7c43bf142222e360&vjs=3',\n",
       "  'location': 'New York State'},\n",
       " {'title': 'Python Engineer',\n",
       "  'link': 'https://www.indeed.com/rc/clk?jk=88d41b4bb4a9cf00&fccid=9ace5aa4e4fa6ce2&vjs=3',\n",
       "  'location': 'New York, NY'},\n",
       " {'title': 'Sr. BI Developer',\n",
       "  'link': 'https://www.indeed.com/rc/clk?jk=6eed453a7000171c&fccid=4b841d912d46e4fd&vjs=3',\n",
       "  'location': 'New York, NY 10006 (Financial District area)'},\n",
       " {'title': 'INTERNSHIP - Index Trading',\n",
       "  'link': 'https://www.indeed.com/rc/clk?jk=dfd3274c4096b9bc&fccid=df6948c9b8da6236&vjs=3',\n",
       "  'location': 'New York, NY'},\n",
       " {'title': 'Students - Equity Trading Desk Internship Summer 2019',\n",
       "  'link': 'https://www.indeed.com/rc/clk?jk=7649cd45d0afd8f0&fccid=7d204885a50ad05e&vjs=3',\n",
       "  'location': 'New York, NY'},\n",
       " {'title': 'Analyst, Advanced Analytics',\n",
       "  'link': 'https://www.indeed.com/rc/clk?jk=d00cd256b2e2838e&fccid=f2c8db2d75b00437&vjs=3',\n",
       "  'location': 'New York, NY'},\n",
       " {'title': 'Quantitative Researcher, Electronic Trading',\n",
       "  'link': 'https://www.indeed.com/rc/clk?jk=6c74eb17877f6ff9&fccid=9db25778e3ea9b73&vjs=3',\n",
       "  'location': 'New York, NY'},\n",
       " {'title': 'Intern - Engineering (Data)',\n",
       "  'link': 'https://www.indeed.com/rc/clk?jk=c12abeff93eef71c&fccid=212918c290ce6cf0&vjs=3',\n",
       "  'location': 'New York State'},\n",
       " {'title': 'Algorithmic Quant Researcher - Analyst',\n",
       "  'link': 'https://www.indeed.com/rc/clk?jk=621e6b236fbc8fc4&fccid=f1d8e147024abb3f&vjs=3',\n",
       "  'location': 'New York, NY'},\n",
       " {'title': 'Scientific Programmer',\n",
       "  'link': 'https://www.indeed.com/rc/clk?jk=e86692715bef2aad&fccid=69d294dd564bf502&vjs=3',\n",
       "  'location': 'Buffalo, NY 14260'},\n",
       " {'title': 'Quantitative Researcher & Development Associate',\n",
       "  'link': 'https://www.indeed.com/rc/clk?jk=1751b8455bae1972&fccid=db0af0ad6162783b&vjs=3',\n",
       "  'location': 'New York, NY 10014 (West Village area)'},\n",
       " {'title': 'Presales Data Architect (North East)',\n",
       "  'link': 'https://www.indeed.com/rc/clk?jk=d1d7c9a1312fc3ef&fccid=8ba5759a04b37d93&vjs=3',\n",
       "  'location': 'New York, NY'},\n",
       " {'title': 'Data Scientist',\n",
       "  'link': 'https://www.indeed.com/rc/clk?jk=1636faa0308fd08f&fccid=1577085fc2290983&vjs=3',\n",
       "  'location': 'New York, NY'},\n",
       " {'title': 'Full Stack Software Engineer (PHP/Python)- Watertown, MA or...',\n",
       "  'link': 'https://www.indeed.com/rc/clk?jk=9e9e38e8370e6f86&fccid=4f7cefeb56d1c5b0&vjs=3',\n",
       "  'location': 'Poughkeepsie, NY 12601'},\n",
       " {'title': 'Early Careers | Financial Modeling & Research | New York',\n",
       "  'link': 'https://www.indeed.com/rc/clk?jk=dc9e838824bcc388&fccid=16a97ed26c75bf2d&vjs=3',\n",
       "  'location': 'New York, NY'},\n",
       " {'title': 'Analyst, CFR [HSF]',\n",
       "  'link': 'https://www.indeed.com/rc/clk?jk=f1ec8f3eb7d6524b&fccid=f057e04c37cca134&vjs=3',\n",
       "  'location': 'New York, NY'},\n",
       " {'title': 'Python Engineer',\n",
       "  'link': 'https://www.indeed.com/rc/clk?jk=88d41b4bb4a9cf00&fccid=9ace5aa4e4fa6ce2&vjs=3',\n",
       "  'location': 'New York, NY'},\n",
       " {'title': 'Sr. BI Developer',\n",
       "  'link': 'https://www.indeed.com/rc/clk?jk=6eed453a7000171c&fccid=4b841d912d46e4fd&vjs=3',\n",
       "  'location': 'New York, NY 10006 (Financial District area)'},\n",
       " {'title': 'INTERNSHIP - Index Trading',\n",
       "  'link': 'https://www.indeed.com/rc/clk?jk=dfd3274c4096b9bc&fccid=df6948c9b8da6236&vjs=3',\n",
       "  'location': 'New York, NY'},\n",
       " {'title': 'Students - Equity Trading Desk Internship Summer 2019',\n",
       "  'link': 'https://www.indeed.com/rc/clk?jk=7649cd45d0afd8f0&fccid=7d204885a50ad05e&vjs=3',\n",
       "  'location': 'New York, NY'},\n",
       " {'title': 'Analyst, Advanced Analytics',\n",
       "  'link': 'https://www.indeed.com/rc/clk?jk=d00cd256b2e2838e&fccid=f2c8db2d75b00437&vjs=3',\n",
       "  'location': 'New York, NY'},\n",
       " {'title': 'Quantitative Researcher, Electronic Trading',\n",
       "  'link': 'https://www.indeed.com/rc/clk?jk=6c74eb17877f6ff9&fccid=9db25778e3ea9b73&vjs=3',\n",
       "  'location': 'New York, NY'},\n",
       " {'title': 'Intern - Engineering (Data)',\n",
       "  'link': 'https://www.indeed.com/rc/clk?jk=c12abeff93eef71c&fccid=212918c290ce6cf0&vjs=3',\n",
       "  'location': 'New York State'},\n",
       " {'title': 'Algorithmic Quant Researcher - Analyst',\n",
       "  'link': 'https://www.indeed.com/rc/clk?jk=621e6b236fbc8fc4&fccid=f1d8e147024abb3f&vjs=3',\n",
       "  'location': 'New York, NY'},\n",
       " {'title': 'Scientific Programmer',\n",
       "  'link': 'https://www.indeed.com/rc/clk?jk=e86692715bef2aad&fccid=69d294dd564bf502&vjs=3',\n",
       "  'location': 'Buffalo, NY 14260'},\n",
       " {'title': 'Quantitative Researcher & Development Associate',\n",
       "  'link': 'https://www.indeed.com/rc/clk?jk=1751b8455bae1972&fccid=db0af0ad6162783b&vjs=3',\n",
       "  'location': 'New York, NY 10014 (West Village area)'},\n",
       " {'title': 'Subject Matter Expert: Django',\n",
       "  'link': 'https://www.indeed.com/rc/clk?jk=cdbd82458ababff4&fccid=b9d4e9eceb3ff4c0&vjs=3',\n",
       "  'location': 'New York State'},\n",
       " {'title': 'Research Associates',\n",
       "  'link': 'https://www.indeed.com/rc/clk?jk=75304bc19a74f00b&fccid=00ae4e776f21bc2f&vjs=3',\n",
       "  'location': 'New York, NY 10005 (Financial District area)'},\n",
       " {'title': 'Quantitative Researcher (Associate)',\n",
       "  'link': 'https://www.indeed.com/rc/clk?jk=cb12194850dd5cde&fccid=4f36cf717ed1367b&vjs=3',\n",
       "  'location': 'New York, NY 10017 (Midtown area)'},\n",
       " {'title': 'QA Engineer',\n",
       "  'link': 'https://www.indeed.com/rc/clk?jk=53b8bc236e977ca8&fccid=521ca7ccc49e32d5&vjs=3',\n",
       "  'location': 'New York, NY 10010 (Flatiron District area)'},\n",
       " {'title': 'Intern - Platform Operations',\n",
       "  'link': 'https://www.indeed.com/rc/clk?jk=2b1fd87b0878e736&fccid=212918c290ce6cf0&vjs=3',\n",
       "  'location': 'New York State'},\n",
       " {'title': 'Trading Execution Services Specialist',\n",
       "  'link': 'https://www.indeed.com/rc/clk?jk=5e6baf022a96842d&fccid=d2c6abf8a785fc40&vjs=3',\n",
       "  'location': 'New York, NY 10003 (Flatiron District area)'},\n",
       " {'title': 'Software Engineer',\n",
       "  'link': 'https://www.indeed.com/rc/clk?jk=892b58616900769c&fccid=c9b9e477b3c84b4d&vjs=3',\n",
       "  'location': 'New York, NY'},\n",
       " {'title': 'Quantitative Trading Intern (Summer 2021)',\n",
       "  'link': 'https://www.indeed.com/rc/clk?jk=8f2e1f71216c3fd4&fccid=aad0a6d052467169&vjs=3',\n",
       "  'location': 'New York, NY'},\n",
       " {'title': 'QUANTITATIVE RESEARCHER',\n",
       "  'link': 'https://www.indeed.com/rc/clk?jk=e25b202b667e5bab&fccid=facc18fe475dac15&vjs=3',\n",
       "  'location': 'New York, NY'},\n",
       " {'title': 'Counterintelligence Analyst',\n",
       "  'link': 'https://www.indeed.com/rc/clk?jk=010e43e966f7a4c0&fccid=31bebfb78bc1f0f1&vjs=3',\n",
       "  'location': 'Corning, NY 14831'},\n",
       " {'title': 'Software Engineer, Junior',\n",
       "  'link': 'https://www.indeed.com/rc/clk?jk=b57c0863e801533f&fccid=4e041af1d0af1bc8&vjs=3',\n",
       "  'location': 'New York, NY 10036 (Garment District area)'},\n",
       " {'title': 'C++, Python Engineer',\n",
       "  'link': 'https://www.indeed.com/rc/clk?jk=a81761b5e7892be4&fccid=aaf3b433897ea465&vjs=3',\n",
       "  'location': 'New York, NY'},\n",
       " {'title': 'Technical Lead',\n",
       "  'link': 'https://www.indeed.com/rc/clk?jk=91c637fccd94ebbc&fccid=2c45da85801f6e6e&vjs=3',\n",
       "  'location': 'New York State'},\n",
       " {'title': 'Healthcare Data Analyst',\n",
       "  'link': 'https://www.indeed.com/rc/clk?jk=228f71a64ca06771&fccid=2c23f29fcd5c78da&vjs=3',\n",
       "  'location': 'New York, NY'},\n",
       " {'title': 'Growth Strategy Analyst',\n",
       "  'link': 'https://www.indeed.com/rc/clk?jk=caf60fa5b958d610&fccid=448951d0ddf03e0c&vjs=3',\n",
       "  'location': 'New York, NY'},\n",
       " {'title': 'Summer Intern, Data & Technology',\n",
       "  'link': 'https://www.indeed.com/rc/clk?jk=ceca67fc57b395b4&fccid=b11ab84b412087d4&vjs=3',\n",
       "  'location': 'New York, NY 10018 (Garment District area)'},\n",
       " {'title': 'Software Engineering Intern - 2021 Internship',\n",
       "  'link': 'https://www.indeed.com/rc/clk?jk=e3ba93a5d882f5d9&fccid=1dfe9483b30ed493&vjs=3',\n",
       "  'location': 'Buffalo, NY 14225'},\n",
       " {'title': 'Senior Spatial Data and Mapping Analyst',\n",
       "  'link': 'https://www.indeed.com/rc/clk?jk=8c608a52e55e50d8&fccid=c6b5143eab3dbe34&vjs=3',\n",
       "  'location': 'Long Island City, NY 11101'},\n",
       " {'title': 'Quantitative Analyst',\n",
       "  'link': 'https://www.indeed.com/rc/clk?jk=c94b1bd113f6d4d8&fccid=4fb0b2c432bee589&vjs=3',\n",
       "  'location': 'New York, NY 10022 (Midtown area)'},\n",
       " {'title': 'Software Engineer Intern',\n",
       "  'link': 'https://www.indeed.com/rc/clk?jk=e01674d33559a721&fccid=978d9fd9799d55a8&vjs=3',\n",
       "  'location': 'New York, NY 10018 (Clinton area)'},\n",
       " {'title': 'Data Scientist',\n",
       "  'link': 'https://www.indeed.com/rc/clk?jk=4f308e7494216a57&fccid=b0240a5b109c1256&vjs=3',\n",
       "  'location': 'New York, NY'},\n",
       " {'title': 'Développeur Commando Front Office',\n",
       "  'link': 'https://www.indeed.com/rc/clk?jk=8b9ac16249576d19&fccid=bf3fb669dcbf8d45&vjs=3',\n",
       "  'location': 'New York, NY'},\n",
       " {'title': 'Equity Research Associate',\n",
       "  'link': 'https://www.indeed.com/rc/clk?jk=0adb0520fc9b55a1&fccid=978bc31afb217dbc&vjs=3',\n",
       "  'location': 'New York, NY 10022 (Turtle Bay area)'},\n",
       " {'title': 'Junior Data Scientist – Performance Analytics',\n",
       "  'link': 'https://www.indeed.com/rc/clk?jk=503b042faf79bcb0&fccid=654e90d7ed1a0db0&vjs=3',\n",
       "  'location': 'New York, NY 10022 (Turtle Bay area)'},\n",
       " {'title': 'Python Data Science Software Engineer',\n",
       "  'link': 'https://www.indeed.com/rc/clk?jk=5db9b56512105f73&fccid=f770da67b3b51c62&vjs=3',\n",
       "  'location': 'New York, NY'},\n",
       " {'title': 'Technical Support Engineer (Remote)',\n",
       "  'link': 'https://www.indeed.com/rc/clk?jk=e03ee5b827497be0&fccid=4e579278e59b0b54&vjs=3',\n",
       "  'location': 'New York, NY'},\n",
       " {'title': 'Process Modeling Engineer',\n",
       "  'link': 'https://www.indeed.com/rc/clk?jk=33135ebec1ae3f5d&fccid=31bebfb78bc1f0f1&vjs=3',\n",
       "  'location': 'Corning, NY 14831'},\n",
       " {'title': 'Data Science Intern (Spring 2021)',\n",
       "  'link': 'https://www.indeed.com/rc/clk?jk=5f66a9c9432c7a7d&fccid=2dda8667d8de78d8&vjs=3',\n",
       "  'location': 'New York, NY'},\n",
       " {'title': 'Computer Engineering, Entry Level',\n",
       "  'link': 'https://www.indeed.com/rc/clk?jk=7e3f9ec712dd6414&fccid=fd6a32f24dd4ee0d&vjs=3',\n",
       "  'location': 'Webster, NY 14580'},\n",
       " {'title': 'Data Analytics Manager',\n",
       "  'link': 'https://www.indeed.com/rc/clk?jk=a40ea2c2e70c7ed8&fccid=cc9f04eed69b86b2&vjs=3',\n",
       "  'location': 'New York State'},\n",
       " {'title': 'Data Analyst/Scientist (2021 Start)',\n",
       "  'link': 'https://www.indeed.com/rc/clk?jk=d0ff28e6ee1d6819&fccid=30e07b3381b2a862&vjs=3',\n",
       "  'location': 'New York, NY 10018 (Garment District area)'},\n",
       " {'title': 'BoxC NodeJS Full Stack Developer Remote',\n",
       "  'link': 'https://www.indeed.com/rc/clk?jk=e16579da26228c17&fccid=092927bc0814e0a6&vjs=3',\n",
       "  'location': 'New York State'},\n",
       " {'title': 'Data Science Intern | Summer 2021',\n",
       "  'link': 'https://www.indeed.com/rc/clk?jk=046648367c28d80b&fccid=8288755c1d73f5f0&vjs=3',\n",
       "  'location': 'New York, NY'},\n",
       " {'title': 'Staff Associate III',\n",
       "  'link': 'https://www.indeed.com/rc/clk?jk=d137f669478010fc&fccid=bd976cc171c690e0&vjs=3',\n",
       "  'location': 'New York, NY 10027 (Manhattanville area)'},\n",
       " {'title': 'Specialist IT Support',\n",
       "  'link': 'https://www.indeed.com/rc/clk?jk=0dd90cdd23844ea9&fccid=38b8f999774b46b1&vjs=3',\n",
       "  'location': 'Long Island City, NY 11101'},\n",
       " {'title': 'Quantitative Developer, Python',\n",
       "  'link': 'https://www.indeed.com/rc/clk?jk=b905499367112b35&fccid=376cafc34c3b98c4&vjs=3',\n",
       "  'location': 'New York, NY'},\n",
       " {'title': 'Algo Software Engineer (C++/Python)',\n",
       "  'link': 'https://www.indeed.com/rc/clk?jk=c7c193ae35f5bad7&fccid=01b91641951e8886&vjs=3',\n",
       "  'location': 'New York, NY 10005 (Financial District area)'},\n",
       " {'title': 'Data Scientist Intern',\n",
       "  'link': 'https://www.indeed.com/rc/clk?jk=b6e4fc84c7d476ea&fccid=1b50fcfb150b1b48&vjs=3',\n",
       "  'location': 'New York, NY'},\n",
       " {'title': 'Software Engineer (All Levels)',\n",
       "  'link': 'https://www.indeed.com/rc/clk?jk=2134c7942751417c&fccid=1b3df0faac85255e&vjs=3',\n",
       "  'location': 'New York, NY'},\n",
       " {'title': 'Product Analyst',\n",
       "  'link': 'https://www.indeed.com/rc/clk?jk=827fc67d00cab603&fccid=55ca72cb2faa6d78&vjs=3',\n",
       "  'location': 'New York, NY 10013 (Little Italy area)'},\n",
       " {'title': 'Associate, Credit Algo Sales Trading',\n",
       "  'link': 'https://www.indeed.com/rc/clk?jk=9ddc90d3e1942f95&fccid=f42d8879da906430&vjs=3',\n",
       "  'location': 'New York, NY'},\n",
       " {'title': 'Systems Engineering Integration Solution, Low Code No Code -...',\n",
       "  'link': 'https://www.indeed.com/rc/clk?jk=45b63bae01523e97&fccid=9e215d88a6b33622&vjs=3',\n",
       "  'location': 'New York, NY'},\n",
       " {'title': 'POSTDOCTORAL RESEARCHER',\n",
       "  'link': 'https://www.indeed.com/rc/clk?jk=ed6f4551f32c6ad3&fccid=8077183a161ef0fd&vjs=3',\n",
       "  'location': 'Brooklyn, NY'},\n",
       " {'title': 'Global Equities - Positioning Intelligence - Analyst',\n",
       "  'link': 'https://www.indeed.com/rc/clk?jk=994c273077da982c&fccid=aaf3b433897ea465&vjs=3',\n",
       "  'location': 'New York, NY'},\n",
       " {'title': 'Analytics Manager, Digital Growth',\n",
       "  'link': 'https://www.indeed.com/rc/clk?jk=13947f4bc695319e&fccid=8bd6400c4b7776b5&vjs=3',\n",
       "  'location': 'New York, NY'},\n",
       " {'title': 'Data Analyst',\n",
       "  'link': 'https://www.indeed.com/rc/clk?jk=8164f8ed6afd73de&fccid=9a92a4bf81326e1e&vjs=3',\n",
       "  'location': 'New York, NY'},\n",
       " {'title': 'Metrology Engineer II - Canton, NY',\n",
       "  'link': 'https://www.indeed.com/rc/clk?jk=7b61c3b5ded914df&fccid=31bebfb78bc1f0f1&vjs=3',\n",
       "  'location': 'Canton, NY 13617'},\n",
       " {'title': 'Data Scientist',\n",
       "  'link': 'https://www.indeed.com/rc/clk?jk=b0fea7a51c0d01ce&fccid=b4048be2884af072&vjs=3',\n",
       "  'location': 'New York, NY 10286 (Tribeca area)'},\n",
       " {'title': 'NLP Data Scientist Internship (REMOTE)',\n",
       "  'link': 'https://www.indeed.com/rc/clk?jk=725fc70c4bf910ea&fccid=4f11fda3f02f70cd&vjs=3',\n",
       "  'location': 'New York State'},\n",
       " {'title': 'GIS Analyst',\n",
       "  'link': 'https://www.indeed.com/rc/clk?jk=813baa2050e2a1f6&fccid=7690d1268f298c33&vjs=3',\n",
       "  'location': 'New York, NY 11201 (Fort Greene area)'},\n",
       " {'title': 'Systems Engineer- Cortex',\n",
       "  'link': 'https://www.indeed.com/rc/clk?jk=043f1069a42f0d68&fccid=0562f887e2bed9ea&vjs=3',\n",
       "  'location': 'New York, NY'},\n",
       " {'title': 'Data Analyst Intern',\n",
       "  'link': 'https://www.indeed.com/rc/clk?jk=abfd92126f0a8d8e&fccid=978d9fd9799d55a8&vjs=3',\n",
       "  'location': 'New York, NY 10018 (Clinton area)'},\n",
       " {'title': 'Research Intern, Optical Physics',\n",
       "  'link': 'https://www.indeed.com/rc/clk?jk=fbb823c236cf169e&fccid=31bebfb78bc1f0f1&vjs=3',\n",
       "  'location': 'Painted Post, NY'},\n",
       " {'title': 'Global Equity Index Analyst',\n",
       "  'link': 'https://www.indeed.com/rc/clk?jk=36b4f50e13620c56&fccid=1c76c3a36f6c7557&vjs=3',\n",
       "  'location': 'New York, NY'},\n",
       " {'title': 'Data Engineer Internship (REMOTE)',\n",
       "  'link': 'https://www.indeed.com/rc/clk?jk=fb0e65c48e494471&fccid=4f11fda3f02f70cd&vjs=3',\n",
       "  'location': 'New York State'},\n",
       " {'title': 'Full Stack Programmer',\n",
       "  'link': 'https://www.indeed.com/rc/clk?jk=52a7214177f1ce80&fccid=430cffbf1c607717&vjs=3',\n",
       "  'location': 'New York, NY'},\n",
       " {'title': 'Mobile Test Engineer',\n",
       "  'link': 'https://www.indeed.com/rc/clk?jk=f4d7a82aa24a438d&fccid=f2cbb7715eae48aa&vjs=3',\n",
       "  'location': 'New York, NY'},\n",
       " {'title': 'Software Engineer (Python) - Equinox Fitness Clubs',\n",
       "  'link': 'https://www.indeed.com/rc/clk?jk=eb3abd8710828f24&fccid=8e93e0f1981af822&vjs=3',\n",
       "  'location': 'New York, NY'},\n",
       " {'title': 'Policy Analyst - Data',\n",
       "  'link': 'https://www.indeed.com/rc/clk?jk=d145ef6405aa667c&fccid=5e85d46ffb1578d0&vjs=3',\n",
       "  'location': 'Manhattan, NY'},\n",
       " {'title': 'Quantitative Trader',\n",
       "  'link': 'https://www.indeed.com/rc/clk?jk=f54212709bf17a5c&fccid=db0af0ad6162783b&vjs=3',\n",
       "  'location': 'New York, NY 10014 (West Village area)'},\n",
       " {'title': 'Algorithmic Market Making Quantitative Analyst',\n",
       "  'link': 'https://www.indeed.com/rc/clk?jk=5272ac204bd4ca81&fccid=5bcd1ef0a7f4fb99&vjs=3',\n",
       "  'location': 'New York, NY'},\n",
       " {'title': 'Quantitative Researcher',\n",
       "  'link': 'https://www.indeed.com/rc/clk?jk=57900799a26dc77f&fccid=1e9fe404ac6f3172&vjs=3',\n",
       "  'location': 'New York, NY'},\n",
       " {'title': 'C++ Developer (INTERN)',\n",
       "  'link': 'https://www.indeed.com/rc/clk?jk=dc047d997412893d&fccid=4f36cf717ed1367b&vjs=3',\n",
       "  'location': 'New York, NY 10017 (Midtown area)'},\n",
       " {'title': 'Materials Engineer',\n",
       "  'link': 'https://www.indeed.com/rc/clk?jk=c7b9a6c3b39c9726&fccid=b5ff6a9d6acf7028&vjs=3',\n",
       "  'location': 'Niskayuna, NY 12309'},\n",
       " {'title': 'INTERNSHIP – System & Resource Planning - System Modeling',\n",
       "  'link': 'https://www.indeed.com/rc/clk?jk=38beba64f20061a2&fccid=2b25da52d0ef2922&vjs=3',\n",
       "  'location': 'Rensselaer, NY 12144'},\n",
       " {'title': 'Data Analyst',\n",
       "  'link': 'https://www.indeed.com/rc/clk?jk=697a48cf0071d978&fccid=9affcdd0562bf28d&vjs=3',\n",
       "  'location': 'New York, NY 10001 (Chelsea area)'},\n",
       " {'title': 'Python Engineer',\n",
       "  'link': 'https://www.indeed.com/rc/clk?jk=02aa57266f1a0d50&fccid=548e0909717a6ddf&vjs=3',\n",
       "  'location': 'New York, NY'},\n",
       " {'title': 'Director of Data & Analytics',\n",
       "  'link': 'https://www.indeed.com/rc/clk?jk=dbc52e315efa4fcd&fccid=ed7f069b1531d709&vjs=3',\n",
       "  'location': 'New York State'},\n",
       " {'title': 'Quantitative Trading Research Associate',\n",
       "  'link': 'https://www.indeed.com/rc/clk?jk=f022468aa6d002f2&fccid=ca2285c3548c3efe&vjs=3',\n",
       "  'location': 'New York, NY'},\n",
       " {'title': 'Cities Intern, New York',\n",
       "  'link': 'https://www.indeed.com/rc/clk?jk=e051edd8baa65ee5&fccid=4356d89a17a86533&vjs=3',\n",
       "  'location': 'New York, NY'},\n",
       " {'title': 'NIH-Funded Postdoc',\n",
       "  'link': 'https://www.indeed.com/rc/clk?jk=c08a2deb14f3995f&fccid=f0d2c2975747eb88&vjs=3',\n",
       "  'location': 'New York, NY'},\n",
       " {'title': 'Quantitative Researcher - Full-Time Campus Hire',\n",
       "  'link': 'https://www.indeed.com/rc/clk?jk=ca86a160077d3d9e&fccid=facc18fe475dac15&vjs=3',\n",
       "  'location': 'New York, NY'},\n",
       " {'title': 'Senior Developer - Trade Processing',\n",
       "  'link': 'https://www.indeed.com/rc/clk?jk=1225be4ed16a57cf&fccid=afcb2790e9bd57c7&vjs=3',\n",
       "  'location': 'New York, NY'},\n",
       " {'title': 'Commodities Quantitative Researcher',\n",
       "  'link': 'https://www.indeed.com/rc/clk?jk=cee4c8c7ce66d575&fccid=facc18fe475dac15&vjs=3',\n",
       "  'location': 'New York, NY'},\n",
       " {'title': 'Analytical Linguist',\n",
       "  'link': 'https://www.indeed.com/rc/clk?jk=6a77929de57bc95a&fccid=0555014e7bce64c3&vjs=3',\n",
       "  'location': 'New York, NY'},\n",
       " {'title': 'Part-Time Instructor - Natural Language Processing and Text...',\n",
       "  'link': 'https://www.indeed.com/rc/clk?jk=0d1513880eb8b317&fccid=68842b7a56bf8263&vjs=3',\n",
       "  'location': 'Syracuse, NY'},\n",
       " {'title': 'GIS Analyst',\n",
       "  'link': 'https://www.indeed.com/rc/clk?jk=94fa4738203c353c&fccid=57d597cf1e46769a&vjs=3',\n",
       "  'location': 'New York, NY'},\n",
       " {'title': 'QR Lead',\n",
       "  'link': 'https://www.indeed.com/rc/clk?jk=3cf699c48f1ace91&fccid=db0af0ad6162783b&vjs=3',\n",
       "  'location': 'New York, NY 10014 (West Village area)'},\n",
       " {'title': 'Analyst',\n",
       "  'link': 'https://www.indeed.com/rc/clk?jk=68aca65bca2706a0&fccid=f2c8db2d75b00437&vjs=3',\n",
       "  'location': 'New York, NY'},\n",
       " {'title': 'Full Stack Web Developer - Computer Vision',\n",
       "  'link': 'https://www.indeed.com/rc/clk?jk=a708469241ae0d2c&fccid=ffd98152d5e973b6&vjs=3',\n",
       "  'location': 'Clifton Park, NY'},\n",
       " {'title': 'Research Staff Assistant',\n",
       "  'link': 'https://www.indeed.com/rc/clk?jk=27c41062a84f1644&fccid=bd976cc171c690e0&vjs=3',\n",
       "  'location': 'Lamont, NY'},\n",
       " {'title': 'SRE',\n",
       "  'link': 'https://www.indeed.com/rc/clk?jk=cb469413659430f5&fccid=f770da67b3b51c62&vjs=3',\n",
       "  'location': 'New York, NY'},\n",
       " {'title': 'Assistant Research Technician, Institute for Systems Genetic...',\n",
       "  'link': 'https://www.indeed.com/rc/clk?jk=19297a97a8768fb6&fccid=848e72c84ce4a7a7&vjs=3',\n",
       "  'location': 'New York, NY'},\n",
       " {'title': 'Global Trading Technology Development Intern | Summer 2021',\n",
       "  'link': 'https://www.indeed.com/rc/clk?jk=7e88d31d623d90c3&fccid=8288755c1d73f5f0&vjs=3',\n",
       "  'location': 'New York, NY'},\n",
       " {'title': 'Junior Front End / Full Stack Software Engineer',\n",
       "  'link': 'https://www.indeed.com/rc/clk?jk=168a00aa137f6f7f&fccid=6a5673a520e27ea2&vjs=3',\n",
       "  'location': 'New York, NY'},\n",
       " {'title': 'Computer/Digital Forensics Technician - Entry Level',\n",
       "  'link': 'https://www.indeed.com/rc/clk?jk=01ad6f702872f0a7&fccid=9768fccc43ee5899&vjs=3',\n",
       "  'location': 'New York, NY'},\n",
       " {'title': 'Associate Distribution Planner, Ready-to-Wear',\n",
       "  'link': 'https://www.indeed.com/rc/clk?jk=5778ca533485f15f&fccid=1807e5727f702882&vjs=3',\n",
       "  'location': 'New York, NY'},\n",
       " {'title': '2021 Internships',\n",
       "  'link': 'https://www.indeed.com/rc/clk?jk=5d6843f2339bb52d&fccid=00ae4e776f21bc2f&vjs=3',\n",
       "  'location': 'New York, NY 10005 (Financial District area)'},\n",
       " {'title': 'Research Intern, Computational Materials Science',\n",
       "  'link': 'https://www.indeed.com/rc/clk?jk=d6943edace129841&fccid=31bebfb78bc1f0f1&vjs=3',\n",
       "  'location': 'Corning, NY 14831'},\n",
       " {'title': 'Quantitative Researcher: Risk Modeling',\n",
       "  'link': 'https://www.indeed.com/rc/clk?jk=2027eb1e5d98d6a7&fccid=facc18fe475dac15&vjs=3',\n",
       "  'location': 'New York, NY'}]"
      ]
     },
     "execution_count": 35,
     "metadata": {},
     "output_type": "execute_result"
    }
   ],
   "source": [
    "r"
   ]
  },
  {
   "cell_type": "markdown",
   "metadata": {},
   "source": [
    "#### Extracting the 100 job search results as a CSV file"
   ]
  },
  {
   "cell_type": "code",
   "execution_count": 36,
   "metadata": {},
   "outputs": [],
   "source": [
    "# import dependency\n",
    "import pandas as pd"
   ]
  },
  {
   "cell_type": "code",
   "execution_count": 38,
   "metadata": {},
   "outputs": [],
   "source": [
    "py_jobs = pd.DataFrame(r, columns=['title', 'link', 'location'])"
   ]
  },
  {
   "cell_type": "code",
   "execution_count": 39,
   "metadata": {},
   "outputs": [
    {
     "data": {
      "text/html": [
       "<div>\n",
       "<style scoped>\n",
       "    .dataframe tbody tr th:only-of-type {\n",
       "        vertical-align: middle;\n",
       "    }\n",
       "\n",
       "    .dataframe tbody tr th {\n",
       "        vertical-align: top;\n",
       "    }\n",
       "\n",
       "    .dataframe thead th {\n",
       "        text-align: right;\n",
       "    }\n",
       "</style>\n",
       "<table border=\"1\" class=\"dataframe\">\n",
       "  <thead>\n",
       "    <tr style=\"text-align: right;\">\n",
       "      <th></th>\n",
       "      <th>title</th>\n",
       "      <th>link</th>\n",
       "      <th>location</th>\n",
       "    </tr>\n",
       "  </thead>\n",
       "  <tbody>\n",
       "    <tr>\n",
       "      <th>0</th>\n",
       "      <td>Junior Python Developer</td>\n",
       "      <td>https://www.indeed.com/rc/clk?jk=f8f068da6dd93...</td>\n",
       "      <td>New York, NY 10022 (Midtown area)</td>\n",
       "    </tr>\n",
       "    <tr>\n",
       "      <th>1</th>\n",
       "      <td>Penetration Testing Trainee (Remote USA)</td>\n",
       "      <td>https://www.indeed.com/rc/clk?jk=487b30db63184...</td>\n",
       "      <td>Florida, NY</td>\n",
       "    </tr>\n",
       "    <tr>\n",
       "      <th>2</th>\n",
       "      <td>Data Python Developer</td>\n",
       "      <td>https://www.indeed.com/rc/clk?jk=31661855134fd...</td>\n",
       "      <td>New York, NY</td>\n",
       "    </tr>\n",
       "    <tr>\n",
       "      <th>3</th>\n",
       "      <td>Content Contributor : iOS Development</td>\n",
       "      <td>https://www.indeed.com/rc/clk?jk=a7f18bd945797...</td>\n",
       "      <td>New York State</td>\n",
       "    </tr>\n",
       "    <tr>\n",
       "      <th>4</th>\n",
       "      <td>Content Contributor : Django</td>\n",
       "      <td>https://www.indeed.com/rc/clk?jk=3b5568b7c0bca...</td>\n",
       "      <td>New York State</td>\n",
       "    </tr>\n",
       "  </tbody>\n",
       "</table>\n",
       "</div>"
      ],
      "text/plain": [
       "                                      title  \\\n",
       "0                   Junior Python Developer   \n",
       "1  Penetration Testing Trainee (Remote USA)   \n",
       "2                     Data Python Developer   \n",
       "3     Content Contributor : iOS Development   \n",
       "4              Content Contributor : Django   \n",
       "\n",
       "                                                link  \\\n",
       "0  https://www.indeed.com/rc/clk?jk=f8f068da6dd93...   \n",
       "1  https://www.indeed.com/rc/clk?jk=487b30db63184...   \n",
       "2  https://www.indeed.com/rc/clk?jk=31661855134fd...   \n",
       "3  https://www.indeed.com/rc/clk?jk=a7f18bd945797...   \n",
       "4  https://www.indeed.com/rc/clk?jk=3b5568b7c0bca...   \n",
       "\n",
       "                            location  \n",
       "0  New York, NY 10022 (Midtown area)  \n",
       "1                        Florida, NY  \n",
       "2                       New York, NY  \n",
       "3                     New York State  \n",
       "4                     New York State  "
      ]
     },
     "execution_count": 39,
     "metadata": {},
     "output_type": "execute_result"
    }
   ],
   "source": [
    "py_jobs.head()"
   ]
  },
  {
   "cell_type": "code",
   "execution_count": 40,
   "metadata": {},
   "outputs": [
    {
     "data": {
      "text/plain": [
       "(145, 3)"
      ]
     },
     "execution_count": 40,
     "metadata": {},
     "output_type": "execute_result"
    }
   ],
   "source": [
    "py_jobs.shape"
   ]
  },
  {
   "cell_type": "code",
   "execution_count": 41,
   "metadata": {},
   "outputs": [],
   "source": [
    "py_jobs.to_csv('jobs_search.csv')"
   ]
  },
  {
   "cell_type": "markdown",
   "metadata": {},
   "source": [
    "#### The data has been saved as a csv file named jobs_search.csv in the working directory. This dataset can also be found in this repo."
   ]
  }
 ],
 "metadata": {
  "kernelspec": {
   "display_name": "Python 3",
   "language": "python",
   "name": "python3"
  },
  "language_info": {
   "codemirror_mode": {
    "name": "ipython",
    "version": 3
   },
   "file_extension": ".py",
   "mimetype": "text/x-python",
   "name": "python",
   "nbconvert_exporter": "python",
   "pygments_lexer": "ipython3",
   "version": "3.8.5"
  }
 },
 "nbformat": 4,
 "nbformat_minor": 4
}
